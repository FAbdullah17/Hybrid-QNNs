{
 "cells": [
  {
   "cell_type": "markdown",
   "id": "41b675e9",
   "metadata": {},
   "source": [
    "# Quantum Machine Learning Colab Template\n",
    "Use this notebook to run experiments, analyze results, and save outputs to GitHub and W&B."
   ]
  },
  {
   "cell_type": "code",
   "execution_count": null,
   "id": "da3d832b",
   "metadata": {},
   "outputs": [],
   "source": [
<<<<<<< HEAD
    "\n",
    "# Cell 1: Clone the repo\n",
    "!git clone https://github.com/FAbdullah17/Hybrid-QNNs.git\n",
=======
    "# 1. Clone the repo\n",
    "!git clone https://github.com/FAbdullah17/Hybrid-QNNs\n",
>>>>>>> c69b22e996c3b70cf2c2dbd0eac14c4069ac7266
    "%cd Hybrid-QNNs"
   ]
  },
  {
   "cell_type": "code",
   "execution_count": null,
   "id": "68675491",
   "metadata": {},
   "outputs": [],
   "source": [
    "\n",
    "\n",
    "# 2. Install dependencies\n",
<<<<<<< HEAD
    "!pip install -r requirements.txt\n"
=======
    
    "!pip install -r Hybrid-QNNs/requirements.txt"
>>>>>>> c69b22e996c3b70cf2c2dbd0eac14c4069ac7266
   ]
  },
  {
   "cell_type": "code",
   "execution_count": null,
   "id": "37cb3b3d",
   "metadata": {},
   "outputs": [],
   "source": [
    "\n",
    "# 3. Set up experiment config (optional)\n",
    "import yaml\n",
    "with open('configs/no_entanglement.yaml') as f:\n",
    "    config = yaml.safe_load(f)\n",
    "print(config)\n",
    "\n"
   ]
  },
  {
   "cell_type": "code",
   "execution_count": null,
   "id": "fa51f0c6",
   "metadata": {},
   "outputs": [],
   "source": [
    "\n",
    "# 4. Run your experiment script\n",
    "!python experiments/no_entanglement.py  # Change as needed\n",
    "\n"
   ]
  },
  {
   "cell_type": "code",
   "execution_count": null,
   "id": "1c553581",
   "metadata": {},
   "outputs": [],
   "source": [
    "\n",
    "# 5. Visualize results\n",
    "import matplotlib.pyplot as plt\n",
    "import numpy as np\n",
    "img = plt.imread('results/your_plot.png')  # Change filename as needed\n",
    "plt.imshow(img)\n",
    "plt.axis('off')\n",
    "plt.show()\n"
   ]
  },
  {
   "cell_type": "code",
   "execution_count": null,
   "id": "49f67b0b",
   "metadata": {},
   "outputs": [],
   "source": [
    "\n",
    "# 6. Download results/plots\n",
    "from google.colab import files\n",
    "files.download('results/your_plot.png')  # Change filename as needed\n",
    "\n"
   ]
  },
  {
   "cell_type": "code",
   "execution_count": null,
   "id": "fbfe5fa6",
   "metadata": {},
   "outputs": [],
   "source": [
    "\n",
    "# 7. W&B login and logging example\n",
    "import wandb\n",
    "wandb.login()\n",
    "wandb.init(project=\"Hybrid-QNNs\", config=config)\n",
    "wandb.log({\"example_metric\": 0.95})\n",
    "\n"
   ]
  },
  {
   "cell_type": "code",
   "execution_count": null,
   "id": "18df7436",
   "metadata": {},
   "outputs": [],
   "source": [
    "\n",
    "# 8. (Optional) Push results back to GitHub\n",
    "!git config --global user.email \"your_email@example.com\"\n",
    "!git config --global user.name \"Your Name\"\n",
    "!git add results/your_plot.png\n",
    "!git commit -m \"Add experiment results\"\n",
    "!git push origin main"
   ]
  }
 ],
 "metadata": {
  "kernelspec": {
   "display_name": "hqnn",
   "language": "python",
   "name": "python3"
  },
  "language_info": {
   "codemirror_mode": {
    "name": "ipython",
    "version": 3
   },
   "file_extension": ".py",
   "mimetype": "text/x-python",
   "name": "python",
   "nbconvert_exporter": "python",
   "pygments_lexer": "ipython3",
   "version": "3.10.18"
  }
 },
 "nbformat": 4,
 "nbformat_minor": 5
}
