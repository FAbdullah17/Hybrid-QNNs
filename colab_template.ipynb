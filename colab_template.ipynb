{
  "cells": [
    {
      "cell_type": "markdown",
      "source": [
        "### **Hybrid-QNNs**\n",
        "\n",
        "\n"
      ],
      "metadata": {
        "id": "fVfXpfBaHG7W"
      },
      "id": "fVfXpfBaHG7W"
    },
    {
      "cell_type": "code",
      "execution_count": null,
      "id": "e0ce0f34",
      "metadata": {
        "id": "e0ce0f34"
      },
      "outputs": [],
      "source": [
        "# Cell 1: Clone the repo\n",
        "!git clone https://github.com/FAbdullah17/Hybrid-QNNs.git\n",
        "%cd Hybrid-QNNs"
      ]
    },
    {
      "cell_type": "code",
      "execution_count": null,
      "id": "07763429",
      "metadata": {
        "id": "07763429"
      },
      "outputs": [],
      "source": [
        "# Cell 2: Install dependencies\n",
        "!pip install -r requirements.txt"
      ]
    },
    {
      "cell_type": "code",
      "execution_count": null,
      "id": "bf015c2d",
      "metadata": {
        "id": "bf015c2d"
      },
      "outputs": [],
      "source": [
        "# Cell 3: Set up experiment config (optional)\n",
        "import yaml\n",
        "with open('configs/no_entanglement.yaml') as f:\n",
        "    config = yaml.safe_load(f)\n",
        "print(config)"
      ]
    },
    {
      "cell_type": "code",
      "execution_count": 16,
      "id": "2662ffab",
      "metadata": {
        "id": "2662ffab"
      },
      "outputs": [],
      "source": [
        "# Cell 4: Run your experiment script\n",
        "!python experiments/no_entanglement.py # Change as needed"
      ]
    },
    {
      "cell_type": "code",
      "execution_count": null,
      "id": "fc7119db",
      "metadata": {
        "id": "fc7119db"
      },
      "outputs": [],
      "source": [
        "# Cell 5: Visualize results\n",
        "import matplotlib.pyplot as plt\n",
        "import numpy as np\n",
        "img = plt.imread('results/your_plot.png')  # Change filename as needed\n",
        "plt.imshow(img)\n",
        "plt.axis('off')\n",
        "plt.show()"
      ]
    },
    {
      "cell_type": "code",
      "execution_count": 18,
      "id": "6b69969b",
      "metadata": {
        "colab": {
          "base_uri": "https://localhost:8080/",
          "height": 17
        },
        "id": "6b69969b",
        "outputId": "6d4e1e35-df64-4a5b-fb51-638172191028"
      },
      "outputs": [
        {
          "output_type": "display_data",
          "data": {
            "text/plain": [
              "<IPython.core.display.Javascript object>"
            ],
            "application/javascript": [
              "\n",
              "    async function download(id, filename, size) {\n",
              "      if (!google.colab.kernel.accessAllowed) {\n",
              "        return;\n",
              "      }\n",
              "      const div = document.createElement('div');\n",
              "      const label = document.createElement('label');\n",
              "      label.textContent = `Downloading \"${filename}\": `;\n",
              "      div.appendChild(label);\n",
              "      const progress = document.createElement('progress');\n",
              "      progress.max = size;\n",
              "      div.appendChild(progress);\n",
              "      document.body.appendChild(div);\n",
              "\n",
              "      const buffers = [];\n",
              "      let downloaded = 0;\n",
              "\n",
              "      const channel = await google.colab.kernel.comms.open(id);\n",
              "      // Send a message to notify the kernel that we're ready.\n",
              "      channel.send({})\n",
              "\n",
              "      for await (const message of channel.messages) {\n",
              "        // Send a message to notify the kernel that we're ready.\n",
              "        channel.send({})\n",
              "        if (message.buffers) {\n",
              "          for (const buffer of message.buffers) {\n",
              "            buffers.push(buffer);\n",
              "            downloaded += buffer.byteLength;\n",
              "            progress.value = downloaded;\n",
              "          }\n",
              "        }\n",
              "      }\n",
              "      const blob = new Blob(buffers, {type: 'application/binary'});\n",
              "      const a = document.createElement('a');\n",
              "      a.href = window.URL.createObjectURL(blob);\n",
              "      a.download = filename;\n",
              "      div.appendChild(a);\n",
              "      a.click();\n",
              "      div.remove();\n",
              "    }\n",
              "  "
            ]
          },
          "metadata": {}
        },
        {
          "output_type": "display_data",
          "data": {
            "text/plain": [
              "<IPython.core.display.Javascript object>"
            ],
            "application/javascript": [
              "download(\"download_5201186e-9271-49b7-973d-8217cf25bcab\", \"your_plot.png\", 25648)"
            ]
          },
          "metadata": {}
        }
      ],
      "source": [
        "# Cell 6: Download results/plots\n",
        "from google.colab import files\n",
        "files.download('results/your_plot.png')  # Change filename as needed"
      ]
    },
    {
      "cell_type": "code",
      "execution_count": null,
      "id": "0567d272",
      "metadata": {
        "id": "0567d272"
      },
      "outputs": [],
      "source": [
        "# Cell 7: W&B login and logging example\n",
        "import wandb\n",
        "wandb.login()\n",
        "wandb.init(project=\"Hybrid-QNNs\", config=config)\n",
        "wandb.log({\"example_metric\": 0.95})"
      ]
    },
    {
      "cell_type": "code",
      "execution_count": null,
      "id": "d23b3ca8",
      "metadata": {
        "id": "d23b3ca8"
      },
      "outputs": [],
      "source": [
        "# Cell 8: (Optional) Push results back to GitHub\n",
        "!git config --global user.email \"your_email@example.com\"\n",
        "!git config --global user.name \"Your Name\"\n",
        "!git add results/your_plot.png\n",
        "!git commit -m \"Add experiment results\"\n",
        "!git push origin main"
      ]
    }
  ],
  "metadata": {
    "kernelspec": {
      "display_name": "hqnn",
      "language": "python",
      "name": "python3"
    },
    "language_info": {
      "codemirror_mode": {
        "name": "ipython",
        "version": 3
      },
      "file_extension": ".py",
      "mimetype": "text/x-python",
      "name": "python",
      "nbconvert_exporter": "python",
      "pygments_lexer": "ipython3",
      "version": "3.10.18"
    },
    "colab": {
      "provenance": []
    }
  },
  "nbformat": 4,
  "nbformat_minor": 5
}