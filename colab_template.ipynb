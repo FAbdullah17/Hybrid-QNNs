{
 "cells": [
  {
   "cell_type": "markdown",
   "id": "41b675e9",
   "metadata": {},
   "source": [
    "# Quantum Machine Learning Colab Template\n",
    "Use this notebook to run experiments, analyze results, and save outputs to GitHub and W&B."
   ]
  },
  {
   "cell_type": "code",
   "execution_count": null,
   "id": "2f27c85b",
   "metadata": {},
   "outputs": [],
   "source": [
    "# 1. Clone the repo\n",
    "!git clone https://github.com/FAbdullah17/Hybrid-QNNs\n",
    "%cd Hybrid-QNNs"
   ]
  },
  {
   "cell_type": "code",
   "execution_count": null,
   "id": "4a5cba5a",
   "metadata": {},
   "outputs": [],
   "source": [
    "# 2. Install dependencies\n",
     "%cd /content/Hybrid-QNNs\n",
    "!pip install -r requirements.txt"
   ]
  },
  {
   "cell_type": "code",
   "execution_count": null,
   "id": "0fbd5118",
   "metadata": {},
   "outputs": [],
   "source": [
    "# 3. Run your experiment script\n",
    "!python experiments/no_entanglement.py  # Change as needed"
   ]
  },
  {
   "cell_type": "code",
   "execution_count": null,
   "id": "5adf7cc4",
   "metadata": {},
   "outputs": [],
   "source": [
    "# 4. Download results/plots\n",
    "from google.colab import files\n",
    "files.download('results/your_plot.png')  # Change filename as needed"
   ]
  },
  {
   "cell_type": "code",
   "execution_count": null,
   "id": "bdc3e7f7",
   "metadata": {},
   "outputs": [],
   "source": [
    "# 5. W&B login\n",
    "import wandb\n",
    "wandb.login()"
   ]
  }
 ],
 "metadata": {
  "language_info": {
   "name": "python"
  }
 },
 "nbformat": 4,
 "nbformat_minor": 5
}
